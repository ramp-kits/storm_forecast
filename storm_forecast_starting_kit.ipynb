{
 "cells": [
  {
   "cell_type": "markdown",
   "metadata": {},
   "source": [
    "<div style=\"text-align: left\">\n",
    "<img src=\"http://project.inria.fr/saclaycds/files/2017/02/logoUPSayPlusCDS_990.png\" width=\"800px\">\n",
    "</div>\n",
    "\n",
    "# [RAMP](https://www.ramp.studio/problems/storm_forecast) on Tropical Storm Intensity Forecast\n",
    "\n",
    "_Sophie Giffard-Roisin (AppStat), Mo Yang (AppStat), Balazs Kegl (AppStat-CDS), Claire Monteleoni (AppStat), Alexandre Boucaud (AppStat-CDS)_"
   ]
  },
  {
   "cell_type": "markdown",
   "metadata": {},
   "source": [
    "1. [Introduction](#Introduction)\n",
    "2. [Installation of libraries](#Installation Libraries) : To do before coming!\n",
    "2. [The data](#The data)\n",
    "3. [Workflow](#Workflow)\n",
    "4. [Evaluation](#Scoring)\n",
    "5. [Local testing/exploration](#Local-testing)\n",
    "6. [Submission](#Submitting-to-ramp.studio)"
   ]
  },
  {
   "cell_type": "markdown",
   "metadata": {},
   "source": [
    "## Introduction\n",
    "\n",
    "The goal of the hackathon is to predict the intensity of tropical and extra-tropical storms (24h forecast) using information from past storms since 1979. The intensity can be measured as the maximum sustained wind over a period of one minute at 10 meters height. This speed, calculated every 6 hours, is usually explained in knots (1kn=0.514 m/s) and is used to define the hurricane category from the [Saffir-Simpson scale](https://en.wikipedia.org/wiki/Saffir–Simpson_scale). Estimating the intensity evolution of a storm is of course crucial for the population.\n",
    "\n",
    "<img src=\"https://github.com/sophiegif/ramp_kit_storm_forecast/blob/master/figures_pynb/all_storms_since1979_IBTrRACKS_newcats.png?raw=true\" width=\"70%\">\n",
    "<div style=\"text-align: center\">Database: tropical/extra-tropical storm tracks since 1979. Dots = initial position, colors = maximal storm strength according to the Saffir-Simpson scale.</div>\n",
    "\n",
    "Today, the forecasts (track and intensity) are provided by a numerous number of guidance models (1). Dynamical models solve the physical equations governing motions in the atmosphere. Statistical models, in contrast, are based on historical relationships between storm behavior and various other parameters. However, the lack of improvement in intensity forecasting is attributed to the complexity of tropical systems and an incomplete understanding of factors that affect their development. Moreover, since the 1990s there have been more storms -particularly at low latitudes- leading to both more representative and more consistent error statistics. Machine learning (and deep learning) methods have been only scarsely tested, and there is hope in that it can improve storm forecasts.\n",
    "\n",
    "Forecast intensity error is defined as the absolute value of the difference between the forecast and best track intensity at the forecast verifying time. \n",
    "\n",
    "\n",
    "\n"
   ]
  },
  {
   "cell_type": "markdown",
   "metadata": {},
   "source": [
    "### The prediction task\n",
    "\n",
    "<img src=\"https://github.com/sophiegif/ramp_kit_storm_forecast/blob/master/figures_pynb/storm_shema3.png?raw=true\" width=\"35%\">\n",
    "<div style=\"text-align: center\">Goal of the challenge: estimating the 24h-forecast intensity of all tropical storms.</div>\n",
    "\n",
    "This challenge proposes to design the best algorithm to predict for a large number of storms the 24h-forecast intensity every 6 hours. The (real) database is composed of more than 3000 extra-tropical and tropical storm tracks, and it also provides the intensity and some local physical information at each timestep (2). Moreover, we also provide the 700-hPa altitudes of the neighborhood of the storm, that can be viewed as an image centered on the current storm location.\n",
    "\n",
    "The goal is to provide for each time step of each storm (total number of instants =90 000), the predicted 24h-forecast intensity, so 4 time steps in the future. \n",
    "\n"
   ]
  },
  {
   "cell_type": "markdown",
   "metadata": {},
   "source": [
    "### References\n",
    "\n",
    "1. National Hurricane Center Forecast Verification website, https://www.nhc.noaa.gov/verification/, updated 04 April 2017.\n",
    "\n",
    "2. Knapp, K. R., M. C. Kruk, D. H. Levinson, H. J. Diamond, and C. J. Neumann, 2010: The International Best Track Archive for Climate Stewardship (IBTrACS): Unifying tropical cyclone best track data. Bulletin of the American Meteorological Society, 91, 363-376 https://www.ncdc.noaa.gov/ibtracs/index.php?name=wmo-data\n"
   ]
  },
  {
   "cell_type": "markdown",
   "metadata": {},
   "source": [
    "## Installation of libraries\n",
    "\n",
    "To get this notebook running and test your models locally using the `ramp_test_submission`, we recommend that you use the Python distribution from [Anaconda](https://www.anaconda.com/download/) or [Miniconda](https://docs.anaconda.com/docs_oss/conda/install/quick#miniconda-quick-install-requirements). (uncomment the lines before running them)"
   ]
  },
  {
   "cell_type": "code",
   "execution_count": null,
   "metadata": {
    "collapsed": true
   },
   "outputs": [],
   "source": [
    "# !conda install -y -c conda conda-env     # First install conda-env to ease the creation of virtual envs in conda\n",
    "# !conda env create                        # Uses the local environment.yml file to create the 'storm_forecast' env"
   ]
  },
  {
   "cell_type": "markdown",
   "metadata": {},
   "source": [
    "**OR** if you have Python already installed but are **not using Anaconda**, you'll want to use `pip` "
   ]
  },
  {
   "cell_type": "code",
   "execution_count": null,
   "metadata": {
    "collapsed": true
   },
   "outputs": [],
   "source": [
    "# !pip install -r requirements.txt"
   ]
  },
  {
   "cell_type": "markdown",
   "metadata": {},
   "source": [
    "#### Installation of ramp-workflow\n",
    "\n",
    "For being able to test submissions, you also need to have the `ramp-workflow` package locally. You can install the latest version with pip from github:"
   ]
  },
  {
   "cell_type": "code",
   "execution_count": null,
   "metadata": {
    "collapsed": true
   },
   "outputs": [],
   "source": [
    "# !pip install git+https://github.com/paris-saclay-cds/ramp-workflow"
   ]
  },
  {
   "cell_type": "markdown",
   "metadata": {},
   "source": [
    "#### Download data (optional)\n",
    "\n",
    "If the data has not yet been downloaded locally, uncomment the following cell and run it.\n",
    "The starting kit data is 260 MB."
   ]
  },
  {
   "cell_type": "code",
   "execution_count": null,
   "metadata": {
    "collapsed": true
   },
   "outputs": [],
   "source": [
    "# !python download_data.py"
   ]
  },
  {
   "cell_type": "markdown",
   "metadata": {},
   "source": [
    "## The data\n",
    "\n",
    "The 3000 storms data has been separated in a train set, a test set and a local starting kit (train+test sets). The data from `download_data.py` (local starting kit) includes only 1/4 storms of the total database; and the train set on which your code will run on the platform has another half. They are disjoined. \n",
    "\n",
    "Let's have a look at the local train data."
   ]
  },
  {
   "cell_type": "code",
   "execution_count": 1,
   "metadata": {},
   "outputs": [],
   "source": [
    "from problem import get_train_data\n",
    "import numpy as np\n",
    "\n",
    "data_train, y_train = get_train_data()"
   ]
  },
  {
   "cell_type": "code",
   "execution_count": 2,
   "metadata": {
    "scrolled": true
   },
   "outputs": [
    {
     "data": {
      "text/html": [
       "<div>\n",
       "<style scoped>\n",
       "    .dataframe tbody tr th:only-of-type {\n",
       "        vertical-align: middle;\n",
       "    }\n",
       "\n",
       "    .dataframe tbody tr th {\n",
       "        vertical-align: top;\n",
       "    }\n",
       "\n",
       "    .dataframe thead th {\n",
       "        text-align: right;\n",
       "    }\n",
       "</style>\n",
       "<table border=\"1\" class=\"dataframe\">\n",
       "  <thead>\n",
       "    <tr style=\"text-align: right;\">\n",
       "      <th></th>\n",
       "      <th>stormid</th>\n",
       "      <th>instant_t</th>\n",
       "      <th>latitude</th>\n",
       "      <th>longitude</th>\n",
       "      <th>windspeed</th>\n",
       "      <th>hemisphere</th>\n",
       "      <th>Jday_predictor</th>\n",
       "      <th>initial_max_wind</th>\n",
       "      <th>max_wind_change_12h</th>\n",
       "      <th>basin</th>\n",
       "      <th>...</th>\n",
       "      <th>z_24_15</th>\n",
       "      <th>z_24_16</th>\n",
       "      <th>z_24_17</th>\n",
       "      <th>z_24_18</th>\n",
       "      <th>z_24_19</th>\n",
       "      <th>z_24_20</th>\n",
       "      <th>z_24_21</th>\n",
       "      <th>z_24_22</th>\n",
       "      <th>z_24_23</th>\n",
       "      <th>z_24_24</th>\n",
       "    </tr>\n",
       "  </thead>\n",
       "  <tbody>\n",
       "    <tr>\n",
       "      <th>0</th>\n",
       "      <td>1979198N11256</td>\n",
       "      <td>0</td>\n",
       "      <td>10.5</td>\n",
       "      <td>-103.7</td>\n",
       "      <td>25.0</td>\n",
       "      <td>1</td>\n",
       "      <td>0.006923</td>\n",
       "      <td>25.0</td>\n",
       "      <td>0.0</td>\n",
       "      <td>3</td>\n",
       "      <td>...</td>\n",
       "      <td>114816.654113</td>\n",
       "      <td>114819.087566</td>\n",
       "      <td>114823.954472</td>\n",
       "      <td>114826.387926</td>\n",
       "      <td>114819.087566</td>\n",
       "      <td>114789.886130</td>\n",
       "      <td>114758.251241</td>\n",
       "      <td>114731.483258</td>\n",
       "      <td>114697.414916</td>\n",
       "      <td>114665.780026</td>\n",
       "    </tr>\n",
       "    <tr>\n",
       "      <th>1</th>\n",
       "      <td>1979198N11256</td>\n",
       "      <td>1</td>\n",
       "      <td>10.9</td>\n",
       "      <td>-105.3</td>\n",
       "      <td>30.0</td>\n",
       "      <td>1</td>\n",
       "      <td>0.006923</td>\n",
       "      <td>25.0</td>\n",
       "      <td>5.0</td>\n",
       "      <td>3</td>\n",
       "      <td>...</td>\n",
       "      <td>114607.377154</td>\n",
       "      <td>114600.076795</td>\n",
       "      <td>114600.076795</td>\n",
       "      <td>114604.943701</td>\n",
       "      <td>114607.377154</td>\n",
       "      <td>114600.076795</td>\n",
       "      <td>114597.643342</td>\n",
       "      <td>114595.209889</td>\n",
       "      <td>114580.609171</td>\n",
       "      <td>114563.575000</td>\n",
       "    </tr>\n",
       "    <tr>\n",
       "      <th>2</th>\n",
       "      <td>1979198N11256</td>\n",
       "      <td>2</td>\n",
       "      <td>11.2</td>\n",
       "      <td>-107.0</td>\n",
       "      <td>35.0</td>\n",
       "      <td>1</td>\n",
       "      <td>0.006923</td>\n",
       "      <td>25.0</td>\n",
       "      <td>10.0</td>\n",
       "      <td>3</td>\n",
       "      <td>...</td>\n",
       "      <td>114794.753036</td>\n",
       "      <td>114767.985053</td>\n",
       "      <td>114748.517429</td>\n",
       "      <td>114738.783617</td>\n",
       "      <td>114741.217070</td>\n",
       "      <td>114748.517429</td>\n",
       "      <td>114733.916711</td>\n",
       "      <td>114716.882540</td>\n",
       "      <td>114694.981463</td>\n",
       "      <td>114668.213479</td>\n",
       "    </tr>\n",
       "    <tr>\n",
       "      <th>3</th>\n",
       "      <td>1979198N11256</td>\n",
       "      <td>3</td>\n",
       "      <td>11.0</td>\n",
       "      <td>-108.9</td>\n",
       "      <td>35.0</td>\n",
       "      <td>1</td>\n",
       "      <td>0.006923</td>\n",
       "      <td>25.0</td>\n",
       "      <td>5.0</td>\n",
       "      <td>3</td>\n",
       "      <td>...</td>\n",
       "      <td>114765.551600</td>\n",
       "      <td>114726.616352</td>\n",
       "      <td>114687.681104</td>\n",
       "      <td>114653.612761</td>\n",
       "      <td>114624.411325</td>\n",
       "      <td>114602.510248</td>\n",
       "      <td>114597.643342</td>\n",
       "      <td>114602.510248</td>\n",
       "      <td>114590.342983</td>\n",
       "      <td>114587.909530</td>\n",
       "    </tr>\n",
       "    <tr>\n",
       "      <th>4</th>\n",
       "      <td>1979198N11256</td>\n",
       "      <td>4</td>\n",
       "      <td>11.2</td>\n",
       "      <td>-110.2</td>\n",
       "      <td>40.0</td>\n",
       "      <td>1</td>\n",
       "      <td>0.006923</td>\n",
       "      <td>25.0</td>\n",
       "      <td>5.0</td>\n",
       "      <td>3</td>\n",
       "      <td>...</td>\n",
       "      <td>114804.486848</td>\n",
       "      <td>114782.585771</td>\n",
       "      <td>114731.483258</td>\n",
       "      <td>114670.646932</td>\n",
       "      <td>114600.076795</td>\n",
       "      <td>114527.073204</td>\n",
       "      <td>114461.369973</td>\n",
       "      <td>114429.735084</td>\n",
       "      <td>114420.001272</td>\n",
       "      <td>114424.868178</td>\n",
       "    </tr>\n",
       "  </tbody>\n",
       "</table>\n",
       "<p>5 rows × 637 columns</p>\n",
       "</div>"
      ],
      "text/plain": [
       "         stormid  instant_t  latitude  longitude  windspeed  hemisphere  \\\n",
       "0  1979198N11256          0      10.5     -103.7       25.0           1   \n",
       "1  1979198N11256          1      10.9     -105.3       30.0           1   \n",
       "2  1979198N11256          2      11.2     -107.0       35.0           1   \n",
       "3  1979198N11256          3      11.0     -108.9       35.0           1   \n",
       "4  1979198N11256          4      11.2     -110.2       40.0           1   \n",
       "\n",
       "   Jday_predictor  initial_max_wind  max_wind_change_12h  basin  \\\n",
       "0        0.006923              25.0                  0.0      3   \n",
       "1        0.006923              25.0                  5.0      3   \n",
       "2        0.006923              25.0                 10.0      3   \n",
       "3        0.006923              25.0                  5.0      3   \n",
       "4        0.006923              25.0                  5.0      3   \n",
       "\n",
       "       ...              z_24_15        z_24_16        z_24_17        z_24_18  \\\n",
       "0      ...        114816.654113  114819.087566  114823.954472  114826.387926   \n",
       "1      ...        114607.377154  114600.076795  114600.076795  114604.943701   \n",
       "2      ...        114794.753036  114767.985053  114748.517429  114738.783617   \n",
       "3      ...        114765.551600  114726.616352  114687.681104  114653.612761   \n",
       "4      ...        114804.486848  114782.585771  114731.483258  114670.646932   \n",
       "\n",
       "         z_24_19        z_24_20        z_24_21        z_24_22        z_24_23  \\\n",
       "0  114819.087566  114789.886130  114758.251241  114731.483258  114697.414916   \n",
       "1  114607.377154  114600.076795  114597.643342  114595.209889  114580.609171   \n",
       "2  114741.217070  114748.517429  114733.916711  114716.882540  114694.981463   \n",
       "3  114624.411325  114602.510248  114597.643342  114602.510248  114590.342983   \n",
       "4  114600.076795  114527.073204  114461.369973  114429.735084  114420.001272   \n",
       "\n",
       "         z_24_24  \n",
       "0  114665.780026  \n",
       "1  114563.575000  \n",
       "2  114668.213479  \n",
       "3  114587.909530  \n",
       "4  114424.868178  \n",
       "\n",
       "[5 rows x 637 columns]"
      ]
     },
     "execution_count": 2,
     "metadata": {},
     "output_type": "execute_result"
    }
   ],
   "source": [
    "data_train.head()"
   ]
  },
  {
   "cell_type": "code",
   "execution_count": 3,
   "metadata": {},
   "outputs": [
    {
     "name": "stdout",
     "output_type": "stream",
     "text": [
      "[40. 50. 65. ... 45. 30. 20.]\n"
     ]
    }
   ],
   "source": [
    "print(y_train)"
   ]
  },
  {
   "cell_type": "markdown",
   "metadata": {},
   "source": [
    "You can see that the data is a list of time instants: for the first storm - defined by its stormid-, we have for ex. 26 time steps (one every 6h). It will result in 26 lines beginning with its stormid and the corresponding time step, with all the associated features on the same row. Then the time steps from the second storm will be below, and so on. "
   ]
  },
  {
   "cell_type": "code",
   "execution_count": 6,
   "metadata": {},
   "outputs": [
    {
     "name": "stdout",
     "output_type": "stream",
     "text": [
      "Number of storms in the local training set: 585\n"
     ]
    }
   ],
   "source": [
    "print('Number of storms in the local training set: {}'.format( len(set(data_train['stormid'])) ) )"
   ]
  },
  {
   "cell_type": "code",
   "execution_count": 7,
   "metadata": {},
   "outputs": [
    {
     "name": "stdout",
     "output_type": "stream",
     "text": [
      "Total number of time steps in the local training set: 15566\n"
     ]
    }
   ],
   "source": [
    "print('Total number of time steps in the local training set: {}'.format(y_train.size))"
   ]
  },
  {
   "cell_type": "markdown",
   "metadata": {},
   "source": [
    "### 0D features from track data\n",
    "\n",
    "A set of simple features have been extracted for each storm at each time point: \n",
    "\n",
    "- latitude, longitude: in degrees\n",
    "- windspeed: current (max) windspeed (knots) \n",
    "- hemisphere:  South=0, North=1\n",
    "- Jday predictor:  Gaussian function of (Julian day of storm init - peak day of the hurricane season), see (1)\n",
    "- initial_max_wind: initial (max) windspeed of the storm \n",
    "- max_wind_change_12h: last 12h (max) windspeed change\n",
    "- basin= based on present location: \n",
    "                                    0 = NA - North Atlantic\n",
    "                                    1 = SA - South Atlantic\n",
    "                                    2 = WP - West Pacific\n",
    "                                    3 = EP - East Pacific\n",
    "                                    4 = SP - South Pacific\n",
    "                                    5 = NI - North Indian\n",
    "                                    6 = SI - South Indian\n",
    "                                    7 = AS - Arabian Sea\n",
    "                                    8 = BB - Bay of Bengal\n",
    "                                    9 = EA - Eastern Australia\n",
    "                                    10 = WA - Western Australia\n",
    "                                    11 = CP - Central Pacific\n",
    "                                    12 = CS - Carribbean Sea\n",
    "                                    13 = GM - Gulf of Mexico\n",
    "                                    14 = MM - Missing\n",
    "- nature= nature of the storm  \n",
    "                               0 = TS - Tropical\n",
    "                               1 = SS - Subtropical\n",
    "                               2 = ET - Extratropical\n",
    "                               3 = DS - Disturbance\n",
    "                               4 = MX - Mix of conflicting reports\n",
    "                               5 = NR - Not Reported\n",
    "                               6 = MM - Missing\n",
    "                               7 =  - Missing\n",
    "- dist2land= current distance to the land \n",
    "\n",
    "\n",
    "(1) DeMaria, Mark, et al. \"Further improvements to the statistical hurricane intensity prediction scheme (SHIPS).\" Weather and Forecasting 20.4 (2005): 531-543. https://journals.ametsoc.org/doi/full/10.1175/WAF862.1"
   ]
  },
  {
   "cell_type": "markdown",
   "metadata": {},
   "source": [
    "### The reanalysis data\n",
    "\n",
    "At each time step, a grid of the 700hPa-level pressure altitude (centered on the current storm location) has been extracted. "
   ]
  },
  {
   "cell_type": "code",
   "execution_count": 8,
   "metadata": {},
   "outputs": [
    {
     "data": {
      "text/html": [
       "<div>\n",
       "<style scoped>\n",
       "    .dataframe tbody tr th:only-of-type {\n",
       "        vertical-align: middle;\n",
       "    }\n",
       "\n",
       "    .dataframe tbody tr th {\n",
       "        vertical-align: top;\n",
       "    }\n",
       "\n",
       "    .dataframe thead th {\n",
       "        text-align: right;\n",
       "    }\n",
       "</style>\n",
       "<table border=\"1\" class=\"dataframe\">\n",
       "  <thead>\n",
       "    <tr style=\"text-align: right;\">\n",
       "      <th></th>\n",
       "      <th>z_0_0</th>\n",
       "      <th>z_0_1</th>\n",
       "      <th>z_0_2</th>\n",
       "      <th>z_0_3</th>\n",
       "      <th>z_0_4</th>\n",
       "      <th>z_0_5</th>\n",
       "      <th>z_0_6</th>\n",
       "      <th>z_0_7</th>\n",
       "      <th>z_0_8</th>\n",
       "      <th>z_0_9</th>\n",
       "      <th>...</th>\n",
       "      <th>z_24_15</th>\n",
       "      <th>z_24_16</th>\n",
       "      <th>z_24_17</th>\n",
       "      <th>z_24_18</th>\n",
       "      <th>z_24_19</th>\n",
       "      <th>z_24_20</th>\n",
       "      <th>z_24_21</th>\n",
       "      <th>z_24_22</th>\n",
       "      <th>z_24_23</th>\n",
       "      <th>z_24_24</th>\n",
       "    </tr>\n",
       "  </thead>\n",
       "  <tbody>\n",
       "    <tr>\n",
       "      <th>0</th>\n",
       "      <td>114383.499476</td>\n",
       "      <td>114383.499476</td>\n",
       "      <td>114385.932929</td>\n",
       "      <td>114385.932929</td>\n",
       "      <td>114385.932929</td>\n",
       "      <td>114385.932929</td>\n",
       "      <td>114388.366382</td>\n",
       "      <td>114388.366382</td>\n",
       "      <td>114388.366382</td>\n",
       "      <td>114390.799835</td>\n",
       "      <td>...</td>\n",
       "      <td>114816.654113</td>\n",
       "      <td>114819.087566</td>\n",
       "      <td>114823.954472</td>\n",
       "      <td>114826.387926</td>\n",
       "      <td>114819.087566</td>\n",
       "      <td>114789.886130</td>\n",
       "      <td>114758.251241</td>\n",
       "      <td>114731.483258</td>\n",
       "      <td>114697.414916</td>\n",
       "      <td>114665.780026</td>\n",
       "    </tr>\n",
       "    <tr>\n",
       "      <th>1</th>\n",
       "      <td>114062.283678</td>\n",
       "      <td>114062.283678</td>\n",
       "      <td>114064.717131</td>\n",
       "      <td>114067.150584</td>\n",
       "      <td>114067.150584</td>\n",
       "      <td>114064.717131</td>\n",
       "      <td>114062.283678</td>\n",
       "      <td>114062.283678</td>\n",
       "      <td>114064.717131</td>\n",
       "      <td>114067.150584</td>\n",
       "      <td>...</td>\n",
       "      <td>114607.377154</td>\n",
       "      <td>114600.076795</td>\n",
       "      <td>114600.076795</td>\n",
       "      <td>114604.943701</td>\n",
       "      <td>114607.377154</td>\n",
       "      <td>114600.076795</td>\n",
       "      <td>114597.643342</td>\n",
       "      <td>114595.209889</td>\n",
       "      <td>114580.609171</td>\n",
       "      <td>114563.575000</td>\n",
       "    </tr>\n",
       "    <tr>\n",
       "      <th>2</th>\n",
       "      <td>114278.860997</td>\n",
       "      <td>114273.994091</td>\n",
       "      <td>114269.127185</td>\n",
       "      <td>114266.693732</td>\n",
       "      <td>114269.127185</td>\n",
       "      <td>114271.560638</td>\n",
       "      <td>114271.560638</td>\n",
       "      <td>114271.560638</td>\n",
       "      <td>114271.560638</td>\n",
       "      <td>114271.560638</td>\n",
       "      <td>...</td>\n",
       "      <td>114794.753036</td>\n",
       "      <td>114767.985053</td>\n",
       "      <td>114748.517429</td>\n",
       "      <td>114738.783617</td>\n",
       "      <td>114741.217070</td>\n",
       "      <td>114748.517429</td>\n",
       "      <td>114733.916711</td>\n",
       "      <td>114716.882540</td>\n",
       "      <td>114694.981463</td>\n",
       "      <td>114668.213479</td>\n",
       "    </tr>\n",
       "    <tr>\n",
       "      <th>3</th>\n",
       "      <td>114127.986910</td>\n",
       "      <td>114127.986910</td>\n",
       "      <td>114125.553457</td>\n",
       "      <td>114123.120004</td>\n",
       "      <td>114120.686551</td>\n",
       "      <td>114120.686551</td>\n",
       "      <td>114120.686551</td>\n",
       "      <td>114118.253098</td>\n",
       "      <td>114120.686551</td>\n",
       "      <td>114123.120004</td>\n",
       "      <td>...</td>\n",
       "      <td>114765.551600</td>\n",
       "      <td>114726.616352</td>\n",
       "      <td>114687.681104</td>\n",
       "      <td>114653.612761</td>\n",
       "      <td>114624.411325</td>\n",
       "      <td>114602.510248</td>\n",
       "      <td>114597.643342</td>\n",
       "      <td>114602.510248</td>\n",
       "      <td>114590.342983</td>\n",
       "      <td>114587.909530</td>\n",
       "    </tr>\n",
       "    <tr>\n",
       "      <th>4</th>\n",
       "      <td>114366.465305</td>\n",
       "      <td>114371.332211</td>\n",
       "      <td>114378.632570</td>\n",
       "      <td>114385.932929</td>\n",
       "      <td>114390.799835</td>\n",
       "      <td>114398.100195</td>\n",
       "      <td>114400.533648</td>\n",
       "      <td>114402.967101</td>\n",
       "      <td>114405.400554</td>\n",
       "      <td>114407.834007</td>\n",
       "      <td>...</td>\n",
       "      <td>114804.486848</td>\n",
       "      <td>114782.585771</td>\n",
       "      <td>114731.483258</td>\n",
       "      <td>114670.646932</td>\n",
       "      <td>114600.076795</td>\n",
       "      <td>114527.073204</td>\n",
       "      <td>114461.369973</td>\n",
       "      <td>114429.735084</td>\n",
       "      <td>114420.001272</td>\n",
       "      <td>114424.868178</td>\n",
       "    </tr>\n",
       "  </tbody>\n",
       "</table>\n",
       "<p>5 rows × 625 columns</p>\n",
       "</div>"
      ],
      "text/plain": [
       "           z_0_0          z_0_1          z_0_2          z_0_3          z_0_4  \\\n",
       "0  114383.499476  114383.499476  114385.932929  114385.932929  114385.932929   \n",
       "1  114062.283678  114062.283678  114064.717131  114067.150584  114067.150584   \n",
       "2  114278.860997  114273.994091  114269.127185  114266.693732  114269.127185   \n",
       "3  114127.986910  114127.986910  114125.553457  114123.120004  114120.686551   \n",
       "4  114366.465305  114371.332211  114378.632570  114385.932929  114390.799835   \n",
       "\n",
       "           z_0_5          z_0_6          z_0_7          z_0_8          z_0_9  \\\n",
       "0  114385.932929  114388.366382  114388.366382  114388.366382  114390.799835   \n",
       "1  114064.717131  114062.283678  114062.283678  114064.717131  114067.150584   \n",
       "2  114271.560638  114271.560638  114271.560638  114271.560638  114271.560638   \n",
       "3  114120.686551  114120.686551  114118.253098  114120.686551  114123.120004   \n",
       "4  114398.100195  114400.533648  114402.967101  114405.400554  114407.834007   \n",
       "\n",
       "       ...              z_24_15        z_24_16        z_24_17        z_24_18  \\\n",
       "0      ...        114816.654113  114819.087566  114823.954472  114826.387926   \n",
       "1      ...        114607.377154  114600.076795  114600.076795  114604.943701   \n",
       "2      ...        114794.753036  114767.985053  114748.517429  114738.783617   \n",
       "3      ...        114765.551600  114726.616352  114687.681104  114653.612761   \n",
       "4      ...        114804.486848  114782.585771  114731.483258  114670.646932   \n",
       "\n",
       "         z_24_19        z_24_20        z_24_21        z_24_22        z_24_23  \\\n",
       "0  114819.087566  114789.886130  114758.251241  114731.483258  114697.414916   \n",
       "1  114607.377154  114600.076795  114597.643342  114595.209889  114580.609171   \n",
       "2  114741.217070  114748.517429  114733.916711  114716.882540  114694.981463   \n",
       "3  114624.411325  114602.510248  114597.643342  114602.510248  114590.342983   \n",
       "4  114600.076795  114527.073204  114461.369973  114429.735084  114420.001272   \n",
       "\n",
       "         z_24_24  \n",
       "0  114665.780026  \n",
       "1  114563.575000  \n",
       "2  114668.213479  \n",
       "3  114587.909530  \n",
       "4  114424.868178  \n",
       "\n",
       "[5 rows x 625 columns]"
      ]
     },
     "execution_count": 8,
     "metadata": {},
     "output_type": "execute_result"
    }
   ],
   "source": [
    "data_train_z = data_train[[col for col in data_train.columns if col.startswith('z_')]]\n",
    "data_train_z.head()"
   ]
  },
  {
   "cell_type": "code",
   "execution_count": 9,
   "metadata": {},
   "outputs": [
    {
     "data": {
      "text/plain": [
       "<matplotlib.image.AxesImage at 0x7f34bab0d2e8>"
      ]
     },
     "execution_count": 9,
     "metadata": {},
     "output_type": "execute_result"
    },
    {
     "data": {
      "image/png": "[encoded data removed]",
      "text/plain": [
       "<Figure size 432x288 with 1 Axes>"
      ]
     },
     "metadata": {},
     "output_type": "display_data"
    }
   ],
   "source": [
    "import matplotlib.pyplot as plt\n",
    "%matplotlib inline\n",
    "\n",
    "grid_l=25\n",
    "z_image=np.zeros([grid_l,grid_l])\n",
    "for i in range(grid_l):\n",
    "     for j in range(grid_l):\n",
    "        z_image[i,j]=data_train_z['z_'+str(i)+'_'+str(j)][50]\n",
    "\n",
    "plt.title('Example of one 700-hPa level altitude map (25x25 degrees), centered in the storm location.')\n",
    "plt.imshow(np.array(z_image),interpolation='nearest', origin='lower', cmap='seismic')"
   ]
  },
  {
   "cell_type": "markdown",
   "metadata": {},
   "source": [
    "## The pipeline"
   ]
  },
  {
   "cell_type": "markdown",
   "metadata": {},
   "source": [
    "<img src=\"https://github.com/sophiegif/ramp_kit_storm_forecast/blob/master/figures_pynb/pipeline.png?raw=true\" width=\"70%\">"
   ]
  },
  {
   "cell_type": "markdown",
   "metadata": {},
   "source": [
    "For submitting at the [RAMP site](http://ramp.studio), you will have to write two classes, saved in a specific file:   \n",
    "\n",
    "* a class `FeatureExtractor` in a `feature_extractor.py` file.\n",
    "* a class `Regressor` in a `regressor.py` file.\n",
    "\n",
    "You can look at the simple examples provided in /submissions:\n",
    "- starting_kit : using only the track data\n",
    "- starting_kit_pressure_map : using both track data and image data\n",
    "\n",
    "### Using data from previous time steps\n",
    "Of course, you can use the data from previous time steps, e.g., for the prediction of the intensity of storm S at t=3 you can use data from S at t=\\[0:2\\]. However, it is completely forbidden (and we check it!) to use future data like S at t=4,.. \n",
    "\n",
    "- illegal_lookahead : this simple submission illustrates the error you will have if you are illegally looking ahead time of the same storm."
   ]
  },
  {
   "cell_type": "markdown",
   "metadata": {},
   "source": [
    "## Evaluation\n",
    "The framework is evaluated with a cross-validation approach. The metric used is the RMSE (root mean square error) in knots across all storm time instants. We also made visible three other metrics: `mae` is the mean absolute error, in knots. `mae_hurr` is the MAE using only time instants corresponding to hurricanes (windspeed>64 knots), while `rel_mae_hurr` is the relative RMSE on hurricanes. These metrics are interesting because the current forecasting practice is to exclude all other stages of development (e.g., extratropical, tropical wave...), see [this page](https://www.nhc.noaa.gov/verification/verify5.shtml?)."
   ]
  },
  {
   "cell_type": "markdown",
   "metadata": {},
   "source": [
    "## Testing the submission\n",
    "We can test locally our pipeline using `ramp_test_submission` command line. (`-h` will give you more infos)"
   ]
  },
  {
   "cell_type": "markdown",
   "metadata": {},
   "source": [
    "If you get to see the train and test scores, and no errors, then you can submit your model to the ramp.studio."
   ]
  },
  {
   "cell_type": "markdown",
   "metadata": {},
   "source": [
    "## Some attention points when building the model"
   ]
  },
  {
   "cell_type": "markdown",
   "metadata": {},
   "source": [
    "<div class=\"alert alert-danger\">\n",
    "\n",
    " <ul>\n",
    "  <li>If you want to use the features from previous time steps in your learning (for example using LSTMs), you will have to use the 'stormid' and the 'instant_t' columns. Moreover, you will have to handle separetly the first time steps, which are not provided with past data.</li>\n",
    "  <li>The intensity value to predict is the max windspeed. However, this value was measured empirically with a precision of ~5knots. </li>\n",
    "</ul> \n",
    "\n",
    "</div>"
   ]
  },
  {
   "cell_type": "markdown",
   "metadata": {},
   "source": [
    "## Submitting to the online challenge: [ramp.studio](http://ramp.studio)\n",
    "\n",
    "Once you found a good model, you can submit them to [ramp.studio](http://www.ramp.studio) to enter the online challenge. First, if it is your first time using the RAMP platform, [sign up](http://www.ramp.studio/sign_up), otherwise [log in](http://www.ramp.studio/login). Then sign up to the event [storm_forecast](http://www.ramp.studio/events/storm_forecast). Sign up for the event. Both signups are controled by RAMP administrators, so there **can be a delay between asking for signup and being able to submit**.\n",
    "\n",
    "Once your signup request is accepted, you can go to your [sandbox](http://www.ramp.studio/events/storm_forecast/sandbox) and copy-paste (or upload) [`feature_extractor.py`](/edit/submissions/starting_kit/feature_extractor.py) and [`classifier.py`](/edit/submissions/starting_kit/classifier.py). Save it, rename it, then submit it. The submission is trained and tested on our backend in the similar way as `ramp_test_submission` does it locally. While your submission is waiting in the queue and being trained, you can find it in the \"New submissions (pending training)\" table in [my submissions](http://www.ramp.studio/events/storm_forecast/my_submissions). Once it is trained your submission shows up on the [public leaderboard](http://www.ramp.studio/events/autism/leaderboard). \n",
    "If there is an error (despite having tested your submission locally with `ramp_test_submission`), it will show up in the \"Failed submissions\" table in [my submissions](http://www.ramp.studio/events/storm_forecast/my_submissions). You can click on the error to see part of the trace.\n",
    "\n",
    "After submission, do not forget to give credits to the previous submissions you reused or integrated into your submission.\n",
    "\n",
    "The data set we use at the backend is usually different from what you find in the starting kit, so the score may be different.\n",
    "\n",
    "The official score in this RAMP (the first score column after \"historical contributivity\" on the [leaderboard](http://www.ramp.studio/events/storm_forecast/leaderboard)) is the RMSE."
   ]
  },
  {
   "cell_type": "markdown",
   "metadata": {},
   "source": [
    "## More information\n",
    "\n",
    "You can find more information in the [README](https://github.com/paris-saclay-cds/ramp-workflow/blob/master/README.md) of the [ramp-workflow library](https://github.com/paris-saclay-cds/ramp-workflow)."
   ]
  },
  {
   "cell_type": "markdown",
   "metadata": {},
   "source": [
    "## Contact\n",
    "\n",
    "Don't hesitate to [contact us](mailto:admin@ramp.studio?subject=Storm forecast ramp)."
   ]
  }
 ],
 "metadata": {
  "anaconda-cloud": {},
  "kernelspec": {
   "display_name": "Python 2",
   "language": "python",
   "name": "python2"
  },
  "language_info": {
   "codemirror_mode": {
    "name": "ipython",
    "version": 3
   },
   "file_extension": ".py",
   "mimetype": "text/x-python",
   "name": "python",
   "nbconvert_exporter": "python",
   "pygments_lexer": "ipython3",
   "version": "3.6.4"
  },
  "nav_menu": {},
  "toc": {
   "navigate_menu": true,
   "number_sections": true,
   "sideBar": true,
   "threshold": 6.0,
   "toc_cell": false,
   "toc_section_display": "block",
   "toc_window_display": false
  }
 },
 "nbformat": 4,
 "nbformat_minor": 1
}
